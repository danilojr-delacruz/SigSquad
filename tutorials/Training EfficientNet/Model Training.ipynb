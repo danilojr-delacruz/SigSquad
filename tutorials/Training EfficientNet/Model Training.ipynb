{
 "cells": [
  {
   "cell_type": "code",
   "execution_count": 1,
   "id": "f535fe65-cffb-48dd-a4f8-4a7284bbe72e",
   "metadata": {},
   "outputs": [],
   "source": [
    "import pandas as pd\n",
    "import numpy as np\n",
    "import matplotlib.pyplot as plt\n",
    "import os\n",
    "import torch\n",
    "\n",
    "import sys\n",
    "sys.path.append(\"../../models/EfficientNetB0Starter\")\n",
    "from input_utils import modify_train_metadata, TrainDataset, LazySpectrogramFetcher\n",
    "from model import KldClassifier, EfficientNetB0Starter\n",
    "from constants import TARGETS\n",
    "\n",
    "import lightning as pl\n",
    "from lightning.pytorch.loggers import TensorBoardLogger\n",
    "from torch.utils.data import DataLoader\n",
    "\n",
    "%load_ext autoreload\n",
    "%autoreload 2"
   ]
  },
  {
   "cell_type": "code",
   "execution_count": 2,
   "id": "766cf0ad-a8f9-4883-b351-0ea128a9ad36",
   "metadata": {},
   "outputs": [],
   "source": [
    "SPECTROGRAM_DIR     = \"../../train_spectrograms/\"\n",
    "EEG_SPECTROGRAM_DIR = \"../../EEG_Spectrograms\""
   ]
  },
  {
   "cell_type": "code",
   "execution_count": 3,
   "id": "8c71f8b1-d07e-42fa-ac81-01821b3ae54f",
   "metadata": {},
   "outputs": [],
   "source": [
    "TRAIN_METADATA_DIR = \"../../train.csv\"\n",
    "train_metadata = pd.read_csv(TRAIN_METADATA_DIR)\n",
    "train_metadata = modify_train_metadata(train_metadata)"
   ]
  },
  {
   "cell_type": "code",
   "execution_count": 4,
   "id": "139c902e-629e-4677-946e-b386c49ef49c",
   "metadata": {},
   "outputs": [],
   "source": [
    "train_fetcher = LazySpectrogramFetcher(SPECTROGRAM_DIR, EEG_SPECTROGRAM_DIR)\n",
    "train_dataset = TrainDataset(train_metadata, train_fetcher)"
   ]
  },
  {
   "cell_type": "markdown",
   "id": "d9237f88-52eb-4dad-8eca-b19cda37fe19",
   "metadata": {},
   "source": [
    "## Model"
   ]
  },
  {
   "cell_type": "code",
   "execution_count": 5,
   "id": "c03a4213-4a16-4c0f-a644-8518bde385af",
   "metadata": {},
   "outputs": [],
   "source": [
    "torch.set_float32_matmul_precision('medium')"
   ]
  },
  {
   "cell_type": "code",
   "execution_count": 6,
   "id": "b61a5460-da51-4f52-813c-373cea821f0e",
   "metadata": {},
   "outputs": [
    {
     "name": "stderr",
     "output_type": "stream",
     "text": [
      "GPU available: True (cuda), used: True\n",
      "TPU available: False, using: 0 TPU cores\n",
      "IPU available: False, using: 0 IPUs\n",
      "HPU available: False, using: 0 HPUs\n"
     ]
    }
   ],
   "source": [
    "logger = TensorBoardLogger(\"tb_logs\")\n",
    "\n",
    "enb0 = EfficientNetB0Starter()\n",
    "model = KldClassifier(enb0)\n",
    "\n",
    "train_loader = DataLoader(train_dataset, batch_size=8)\n",
    "trainer = pl.Trainer(max_epochs=5, log_every_n_steps=1)"
   ]
  },
  {
   "cell_type": "code",
   "execution_count": 7,
   "id": "15613925-b37c-4f32-a986-e1d385d06abc",
   "metadata": {},
   "outputs": [
    {
     "name": "stderr",
     "output_type": "stream",
     "text": [
      "LOCAL_RANK: 0 - CUDA_VISIBLE_DEVICES: [0]\n",
      "\n",
      "  | Name       | Type                  | Params\n",
      "-----------------------------------------------------\n",
      "0 | classifier | EfficientNetB0Starter | 4.0 M \n",
      "-----------------------------------------------------\n",
      "4.0 M     Trainable params\n",
      "0         Non-trainable params\n",
      "4.0 M     Total params\n",
      "16.061    Total estimated model params size (MB)\n",
      "/home/delacruz-danilojr/venvs/ml/lib/python3.10/site-packages/lightning/pytorch/trainer/connectors/data_connector.py:441: The 'train_dataloader' does not have many workers which may be a bottleneck. Consider increasing the value of the `num_workers` argument` to `num_workers=15` in the `DataLoader` to improve performance.\n"
     ]
    },
    {
     "data": {
      "application/vnd.jupyter.widget-view+json": {
       "model_id": "ab09a46d9bd749fe9ed91ce0e96e7990",
       "version_major": 2,
       "version_minor": 0
      },
      "text/plain": [
       "Training: |                                                                                                   …"
      ]
     },
     "metadata": {},
     "output_type": "display_data"
    },
    {
     "name": "stderr",
     "output_type": "stream",
     "text": [
      "/home/delacruz-danilojr/venvs/ml/lib/python3.10/site-packages/lightning/pytorch/trainer/call.py:54: Detected KeyboardInterrupt, attempting graceful shutdown...\n"
     ]
    }
   ],
   "source": [
    "trainer.fit(model=model, train_dataloaders=train_loader)"
   ]
  },
  {
   "cell_type": "code",
   "execution_count": 8,
   "id": "a224ee3a-ad37-42b4-af07-2cbbdb38462b",
   "metadata": {},
   "outputs": [],
   "source": [
    "torch.save(model.state_dict(), \"trained_model_weights.pt\")"
   ]
  }
 ],
 "metadata": {
  "kernelspec": {
   "display_name": "Python 3 (ipykernel)",
   "language": "python",
   "name": "python3"
  },
  "language_info": {
   "codemirror_mode": {
    "name": "ipython",
    "version": 3
   },
   "file_extension": ".py",
   "mimetype": "text/x-python",
   "name": "python",
   "nbconvert_exporter": "python",
   "pygments_lexer": "ipython3",
   "version": "3.10.13"
  }
 },
 "nbformat": 4,
 "nbformat_minor": 5
}
