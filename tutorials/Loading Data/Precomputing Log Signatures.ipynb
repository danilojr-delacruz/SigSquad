{
 "cells": [
  {
   "cell_type": "markdown",
   "metadata": {},
   "source": [
    "Precompute separate log signatures for each of the highlited brain regions:\n",
    "\n",
    "<img src=\"../images/brain_regions.png\" style=\"width: 200px;\"/>"
   ]
  },
  {
   "cell_type": "code",
   "execution_count": 1,
   "metadata": {},
   "outputs": [
    {
     "name": "stderr",
     "output_type": "stream",
     "text": [
      "/home/barbora/.local/lib/python3.10/site-packages/tslearn/bases/bases.py:15: UserWarning: h5py not installed, hdf5 features will not be supported.\n",
      "Install h5py to use hdf5 features: http://docs.h5py.org/\n",
      "  warn(h5py_msg)\n"
     ]
    }
   ],
   "source": [
    "import numpy as np\n",
    "import zipfile\n",
    "import os\n",
    "import pandas as pd\n",
    "import matplotlib.pyplot as plt\n",
    "from signature_transform_utils import modify_metadata, preprocess_for_sig, calculate_logsignature_for_metadata, calculate_signature_for_metadata, butter_bandpass_filter\n",
    "import signatory\n",
    "import torch"
   ]
  },
  {
   "cell_type": "code",
   "execution_count": 2,
   "metadata": {},
   "outputs": [],
   "source": [
    "TRAIN_EEG_DIR = \"../../data/train_eegs/\"\n",
    "TRAIN_METADATA_DIR = \"../../data/train.csv\"\n",
    "TRAIN_SIGNATURES_DIR = \"../../data/train_signatures/\""
   ]
  },
  {
   "cell_type": "code",
   "execution_count": 3,
   "metadata": {},
   "outputs": [],
   "source": [
    "train_metadata = pd.read_csv(TRAIN_METADATA_DIR)\n",
    "train_metadata = modify_metadata(train_metadata)"
   ]
  },
  {
   "cell_type": "code",
   "execution_count": 4,
   "metadata": {},
   "outputs": [
    {
     "data": {
      "text/html": [
       "<div>\n",
       "<style scoped>\n",
       "    .dataframe tbody tr th:only-of-type {\n",
       "        vertical-align: middle;\n",
       "    }\n",
       "\n",
       "    .dataframe tbody tr th {\n",
       "        vertical-align: top;\n",
       "    }\n",
       "\n",
       "    .dataframe thead th {\n",
       "        text-align: right;\n",
       "    }\n",
       "</style>\n",
       "<table border=\"1\" class=\"dataframe\">\n",
       "  <thead>\n",
       "    <tr style=\"text-align: right;\">\n",
       "      <th></th>\n",
       "      <th>eeg_id</th>\n",
       "      <th>spectrogram_id</th>\n",
       "      <th>eeg_offset_seconds</th>\n",
       "      <th>spec_offset_seconds</th>\n",
       "      <th>patient_id</th>\n",
       "      <th>target</th>\n",
       "      <th>seizure_vote</th>\n",
       "      <th>lpd_vote</th>\n",
       "      <th>gpd_vote</th>\n",
       "      <th>lrda_vote</th>\n",
       "      <th>grda_vote</th>\n",
       "      <th>other_vote</th>\n",
       "    </tr>\n",
       "  </thead>\n",
       "  <tbody>\n",
       "    <tr>\n",
       "      <th>0</th>\n",
       "      <td>568657</td>\n",
       "      <td>789577333</td>\n",
       "      <td>9.0</td>\n",
       "      <td>9.0</td>\n",
       "      <td>20654</td>\n",
       "      <td>Other</td>\n",
       "      <td>0.000000</td>\n",
       "      <td>0.000000</td>\n",
       "      <td>0.250000</td>\n",
       "      <td>0.000000</td>\n",
       "      <td>0.166667</td>\n",
       "      <td>0.583333</td>\n",
       "    </tr>\n",
       "    <tr>\n",
       "      <th>1</th>\n",
       "      <td>582999</td>\n",
       "      <td>1552638400</td>\n",
       "      <td>18.0</td>\n",
       "      <td>18.0</td>\n",
       "      <td>20230</td>\n",
       "      <td>LPD</td>\n",
       "      <td>0.000000</td>\n",
       "      <td>0.857143</td>\n",
       "      <td>0.000000</td>\n",
       "      <td>0.071429</td>\n",
       "      <td>0.000000</td>\n",
       "      <td>0.071429</td>\n",
       "    </tr>\n",
       "    <tr>\n",
       "      <th>2</th>\n",
       "      <td>1895581</td>\n",
       "      <td>128369999</td>\n",
       "      <td>0.0</td>\n",
       "      <td>1138.0</td>\n",
       "      <td>47999</td>\n",
       "      <td>Other</td>\n",
       "      <td>0.076923</td>\n",
       "      <td>0.000000</td>\n",
       "      <td>0.000000</td>\n",
       "      <td>0.000000</td>\n",
       "      <td>0.076923</td>\n",
       "      <td>0.846154</td>\n",
       "    </tr>\n",
       "    <tr>\n",
       "      <th>3</th>\n",
       "      <td>2482631</td>\n",
       "      <td>978166025</td>\n",
       "      <td>24.0</td>\n",
       "      <td>1926.0</td>\n",
       "      <td>20606</td>\n",
       "      <td>Other</td>\n",
       "      <td>0.000000</td>\n",
       "      <td>0.000000</td>\n",
       "      <td>0.133333</td>\n",
       "      <td>0.066667</td>\n",
       "      <td>0.133333</td>\n",
       "      <td>0.666667</td>\n",
       "    </tr>\n",
       "    <tr>\n",
       "      <th>4</th>\n",
       "      <td>2521897</td>\n",
       "      <td>673742515</td>\n",
       "      <td>2.0</td>\n",
       "      <td>2.0</td>\n",
       "      <td>62117</td>\n",
       "      <td>Other</td>\n",
       "      <td>0.000000</td>\n",
       "      <td>0.000000</td>\n",
       "      <td>0.083333</td>\n",
       "      <td>0.083333</td>\n",
       "      <td>0.333333</td>\n",
       "      <td>0.500000</td>\n",
       "    </tr>\n",
       "    <tr>\n",
       "      <th>...</th>\n",
       "      <td>...</td>\n",
       "      <td>...</td>\n",
       "      <td>...</td>\n",
       "      <td>...</td>\n",
       "      <td>...</td>\n",
       "      <td>...</td>\n",
       "      <td>...</td>\n",
       "      <td>...</td>\n",
       "      <td>...</td>\n",
       "      <td>...</td>\n",
       "      <td>...</td>\n",
       "      <td>...</td>\n",
       "    </tr>\n",
       "    <tr>\n",
       "      <th>5934</th>\n",
       "      <td>4291430584</td>\n",
       "      <td>1984115527</td>\n",
       "      <td>15.0</td>\n",
       "      <td>565.0</td>\n",
       "      <td>61174</td>\n",
       "      <td>LPD</td>\n",
       "      <td>0.000000</td>\n",
       "      <td>0.687500</td>\n",
       "      <td>0.000000</td>\n",
       "      <td>0.000000</td>\n",
       "      <td>0.000000</td>\n",
       "      <td>0.312500</td>\n",
       "    </tr>\n",
       "    <tr>\n",
       "      <th>5935</th>\n",
       "      <td>4291744526</td>\n",
       "      <td>677970444</td>\n",
       "      <td>14.0</td>\n",
       "      <td>14.0</td>\n",
       "      <td>15506</td>\n",
       "      <td>GRDA</td>\n",
       "      <td>0.000000</td>\n",
       "      <td>0.125000</td>\n",
       "      <td>0.000000</td>\n",
       "      <td>0.000000</td>\n",
       "      <td>0.500000</td>\n",
       "      <td>0.375000</td>\n",
       "    </tr>\n",
       "    <tr>\n",
       "      <th>5936</th>\n",
       "      <td>4292809326</td>\n",
       "      <td>75243787</td>\n",
       "      <td>12.0</td>\n",
       "      <td>12.0</td>\n",
       "      <td>18815</td>\n",
       "      <td>Other</td>\n",
       "      <td>0.000000</td>\n",
       "      <td>0.000000</td>\n",
       "      <td>0.000000</td>\n",
       "      <td>0.000000</td>\n",
       "      <td>0.083333</td>\n",
       "      <td>0.916667</td>\n",
       "    </tr>\n",
       "    <tr>\n",
       "      <th>5937</th>\n",
       "      <td>4293306306</td>\n",
       "      <td>819682076</td>\n",
       "      <td>0.0</td>\n",
       "      <td>168.0</td>\n",
       "      <td>37409</td>\n",
       "      <td>GPD</td>\n",
       "      <td>0.000000</td>\n",
       "      <td>0.066667</td>\n",
       "      <td>0.400000</td>\n",
       "      <td>0.000000</td>\n",
       "      <td>0.133333</td>\n",
       "      <td>0.400000</td>\n",
       "    </tr>\n",
       "    <tr>\n",
       "      <th>5938</th>\n",
       "      <td>4294858825</td>\n",
       "      <td>657299228</td>\n",
       "      <td>6.0</td>\n",
       "      <td>6.0</td>\n",
       "      <td>4312</td>\n",
       "      <td>Other</td>\n",
       "      <td>0.000000</td>\n",
       "      <td>0.000000</td>\n",
       "      <td>0.000000</td>\n",
       "      <td>0.000000</td>\n",
       "      <td>0.066667</td>\n",
       "      <td>0.933333</td>\n",
       "    </tr>\n",
       "  </tbody>\n",
       "</table>\n",
       "<p>5939 rows × 12 columns</p>\n",
       "</div>"
      ],
      "text/plain": [
       "          eeg_id  spectrogram_id  eeg_offset_seconds  spec_offset_seconds  \\\n",
       "0         568657       789577333                 9.0                  9.0   \n",
       "1         582999      1552638400                18.0                 18.0   \n",
       "2        1895581       128369999                 0.0               1138.0   \n",
       "3        2482631       978166025                24.0               1926.0   \n",
       "4        2521897       673742515                 2.0                  2.0   \n",
       "...          ...             ...                 ...                  ...   \n",
       "5934  4291430584      1984115527                15.0                565.0   \n",
       "5935  4291744526       677970444                14.0                 14.0   \n",
       "5936  4292809326        75243787                12.0                 12.0   \n",
       "5937  4293306306       819682076                 0.0                168.0   \n",
       "5938  4294858825       657299228                 6.0                  6.0   \n",
       "\n",
       "      patient_id target  seizure_vote  lpd_vote  gpd_vote  lrda_vote  \\\n",
       "0          20654  Other      0.000000  0.000000  0.250000   0.000000   \n",
       "1          20230    LPD      0.000000  0.857143  0.000000   0.071429   \n",
       "2          47999  Other      0.076923  0.000000  0.000000   0.000000   \n",
       "3          20606  Other      0.000000  0.000000  0.133333   0.066667   \n",
       "4          62117  Other      0.000000  0.000000  0.083333   0.083333   \n",
       "...          ...    ...           ...       ...       ...        ...   \n",
       "5934       61174    LPD      0.000000  0.687500  0.000000   0.000000   \n",
       "5935       15506   GRDA      0.000000  0.125000  0.000000   0.000000   \n",
       "5936       18815  Other      0.000000  0.000000  0.000000   0.000000   \n",
       "5937       37409    GPD      0.000000  0.066667  0.400000   0.000000   \n",
       "5938        4312  Other      0.000000  0.000000  0.000000   0.000000   \n",
       "\n",
       "      grda_vote  other_vote  \n",
       "0      0.166667    0.583333  \n",
       "1      0.000000    0.071429  \n",
       "2      0.076923    0.846154  \n",
       "3      0.133333    0.666667  \n",
       "4      0.333333    0.500000  \n",
       "...         ...         ...  \n",
       "5934   0.000000    0.312500  \n",
       "5935   0.500000    0.375000  \n",
       "5936   0.083333    0.916667  \n",
       "5937   0.133333    0.400000  \n",
       "5938   0.066667    0.933333  \n",
       "\n",
       "[5939 rows x 12 columns]"
      ]
     },
     "execution_count": 4,
     "metadata": {},
     "output_type": "execute_result"
    }
   ],
   "source": [
    "train_metadata"
   ]
  },
  {
   "cell_type": "code",
   "execution_count": 5,
   "metadata": {},
   "outputs": [
    {
     "data": {
      "text/plain": [
       "<Axes: xlabel='target'>"
      ]
     },
     "execution_count": 5,
     "metadata": {},
     "output_type": "execute_result"
    },
    {
     "data": {
      "image/png": "[encoded data removed]",
      "text/plain": [
       "<Figure size 640x480 with 1 Axes>"
      ]
     },
     "metadata": {},
     "output_type": "display_data"
    }
   ],
   "source": [
    "train_metadata.target.value_counts().plot(kind='bar')"
   ]
  },
  {
   "cell_type": "code",
   "execution_count": 6,
   "metadata": {},
   "outputs": [],
   "source": [
    "preprocessed = preprocess_for_sig(train_metadata.head(100), TRAIN_EEG_DIR, scaler_type=\"meanvarPerChannel_1.0\")"
   ]
  },
  {
   "cell_type": "code",
   "execution_count": 7,
   "metadata": {},
   "outputs": [
    {
     "data": {
      "text/plain": [
       "0.9936438108135426"
      ]
     },
     "execution_count": 7,
     "metadata": {},
     "output_type": "execute_result"
    }
   ],
   "source": [
    "preprocessed[:4, :, :4].std()"
   ]
  },
  {
   "cell_type": "code",
   "execution_count": 8,
   "metadata": {},
   "outputs": [
    {
     "data": {
      "text/plain": [
       "[<matplotlib.lines.Line2D at 0x78901aab03a0>]"
      ]
     },
     "execution_count": 8,
     "metadata": {},
     "output_type": "execute_result"
    },
    {
     "data": {
      "image/png": "[encoded data removed]",
      "text/plain": [
       "<Figure size 2000x300 with 1 Axes>"
      ]
     },
     "metadata": {},
     "output_type": "display_data"
    }
   ],
   "source": [
    "# example of a preprocessed eeg signal\n",
    "plt.figure(figsize=(20,3))\n",
    "plt.plot(preprocessed[16,:,4])"
   ]
  },
  {
   "cell_type": "code",
   "execution_count": 9,
   "metadata": {},
   "outputs": [],
   "source": [
    "scaler_types = [\"meanvarPerChannel_1.0\"]\n",
    "device = \"cuda\" if torch.cuda.is_available() else \"cpu\""
   ]
  },
  {
   "cell_type": "code",
   "execution_count": 10,
   "metadata": {},
   "outputs": [],
   "source": [
    "def calculate_and_store_sigs(scaler_type):\n",
    "    \"\"\"Calculate and store signatures up to level 5 for the given scaler type\"\"\"\n",
    "    calculate_signature_for_metadata(train_metadata, TRAIN_EEG_DIR, TRAIN_SIGNATURES_DIR, scaler_type = scaler_type, batch_size=1000, device=device, level=5)\n",
    "    for i in range(0, len(train_metadata), 1000):\n",
    "        sigs = torch.load(f\"{TRAIN_SIGNATURES_DIR}sigs_lvl_5_scaler_{scaler_type}_{i}.pt\")\n",
    "        if i == 0:\n",
    "            all_sigs = sigs\n",
    "        else:\n",
    "            all_sigs = torch.cat((all_sigs, sigs), 0)\n",
    "    torch.save(all_sigs, f\"{TRAIN_SIGNATURES_DIR}all_sigs_lvl_5_scaler_{scaler_type}_experts.pt\")\n",
    "    print(f\"Done with {scaler_type}\")"
   ]
  },
  {
   "cell_type": "code",
   "execution_count": 11,
   "metadata": {},
   "outputs": [
    {
     "name": "stdout",
     "output_type": "stream",
     "text": [
      "Processed 0 records.\n",
      "Processed 1000 records.\n",
      "Processed 2000 records.\n",
      "Processed 3000 records.\n",
      "Processed 4000 records.\n",
      "Processed 5000 records.\n",
      "Done with meanvarPerChannel_1.0\n"
     ]
    }
   ],
   "source": [
    "for scaler_type in scaler_types:\n",
    "    calculate_and_store_sigs(scaler_type)"
   ]
  },
  {
   "cell_type": "code",
   "execution_count": 12,
   "metadata": {},
   "outputs": [],
   "source": [
    "# also store level 4, 3\n",
    "sig_4_dim = signatory.signature_channels(5, 4)\n",
    "sig_3_dim = signatory.signature_channels(5, 3)"
   ]
  },
  {
   "cell_type": "code",
   "execution_count": 13,
   "metadata": {},
   "outputs": [
    {
     "name": "stdout",
     "output_type": "stream",
     "text": [
      "Done with meanvarPerChannel_1.0\n"
     ]
    }
   ],
   "source": [
    "for scaler_type in scaler_types:\n",
    "    lvl_5_sigs = torch.load(f\"{TRAIN_SIGNATURES_DIR}all_sigs_lvl_5_scaler_{scaler_type}_experts.pt\")\n",
    "    lvl_4_sigs = lvl_5_sigs[:,:,0:sig_4_dim]\n",
    "    lvl_3_sigs = lvl_5_sigs[:,:,0:sig_3_dim]\n",
    "    torch.save(lvl_4_sigs, f\"{TRAIN_SIGNATURES_DIR}all_sigs_lvl_4_scaler_{scaler_type}_experts.pt\")\n",
    "    torch.save(lvl_3_sigs, f\"{TRAIN_SIGNATURES_DIR}all_sigs_lvl_3_scaler_{scaler_type}_experts.pt\")\n",
    "    print(f\"Done with {scaler_type}\")"
   ]
  },
  {
   "cell_type": "code",
   "execution_count": null,
   "metadata": {},
   "outputs": [],
   "source": []
  }
 ],
 "metadata": {
  "kernelspec": {
   "display_name": "python",
   "language": "python",
   "name": "python3"
  },
  "language_info": {
   "codemirror_mode": {
    "name": "ipython",
    "version": 3
   },
   "file_extension": ".py",
   "mimetype": "text/x-python",
   "name": "python",
   "nbconvert_exporter": "python",
   "pygments_lexer": "ipython3",
   "version": "3.10.12"
  }
 },
 "nbformat": 4,
 "nbformat_minor": 2
}
