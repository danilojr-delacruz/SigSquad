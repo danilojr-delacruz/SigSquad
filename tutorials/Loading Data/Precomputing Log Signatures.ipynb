{
 "cells": [
  {
   "cell_type": "markdown",
   "metadata": {},
   "source": [
    "Precompute separate log signatures for each of the highlited brain regions:\n",
    "\n",
    "<img src=\"../images/brain_regions.png\" style=\"width: 200px;\"/>"
   ]
  },
  {
   "cell_type": "code",
   "execution_count": 1,
   "metadata": {},
   "outputs": [
    {
     "name": "stderr",
     "output_type": "stream",
     "text": [
      "/home/barbora/.local/lib/python3.10/site-packages/tslearn/bases/bases.py:15: UserWarning: h5py not installed, hdf5 features will not be supported.\n",
      "Install h5py to use hdf5 features: http://docs.h5py.org/\n",
      "  warn(h5py_msg)\n"
     ]
    }
   ],
   "source": [
    "import numpy as np\n",
    "import zipfile\n",
    "import os\n",
    "import pandas as pd\n",
    "import matplotlib.pyplot as plt\n",
    "from signature_transform_utils import modify_metadata, preprocess_for_sig, calculate_logsignature_for_metadata, calculate_signature_for_metadata, butter_bandpass_filter\n",
    "import signatory\n",
    "import torch"
   ]
  },
  {
   "cell_type": "code",
   "execution_count": 2,
   "metadata": {},
   "outputs": [],
   "source": [
    "TRAIN_EEG_DIR = \"../../data/train_eegs/\"\n",
    "TRAIN_METADATA_DIR = \"../../data/train.csv\"\n",
    "TRAIN_SIGNATURES_DIR = \"../../data/train_signatures/\""
   ]
  },
  {
   "cell_type": "code",
   "execution_count": 3,
   "metadata": {},
   "outputs": [],
   "source": [
    "train_metadata = pd.read_csv(TRAIN_METADATA_DIR)\n",
    "train_metadata = modify_metadata(train_metadata)"
   ]
  },
  {
   "cell_type": "code",
   "execution_count": 4,
   "metadata": {},
   "outputs": [
    {
     "data": {
      "text/html": [
       "<div>\n",
       "<style scoped>\n",
       "    .dataframe tbody tr th:only-of-type {\n",
       "        vertical-align: middle;\n",
       "    }\n",
       "\n",
       "    .dataframe tbody tr th {\n",
       "        vertical-align: top;\n",
       "    }\n",
       "\n",
       "    .dataframe thead th {\n",
       "        text-align: right;\n",
       "    }\n",
       "</style>\n",
       "<table border=\"1\" class=\"dataframe\">\n",
       "  <thead>\n",
       "    <tr style=\"text-align: right;\">\n",
       "      <th></th>\n",
       "      <th>eeg_id</th>\n",
       "      <th>spectrogram_id</th>\n",
       "      <th>eeg_offset_seconds</th>\n",
       "      <th>spec_offset_seconds</th>\n",
       "      <th>patient_id</th>\n",
       "      <th>target</th>\n",
       "      <th>seizure_vote</th>\n",
       "      <th>lpd_vote</th>\n",
       "      <th>gpd_vote</th>\n",
       "      <th>lrda_vote</th>\n",
       "      <th>grda_vote</th>\n",
       "      <th>other_vote</th>\n",
       "    </tr>\n",
       "  </thead>\n",
       "  <tbody>\n",
       "    <tr>\n",
       "      <th>0</th>\n",
       "      <td>568657</td>\n",
       "      <td>789577333</td>\n",
       "      <td>9.0</td>\n",
       "      <td>9.0</td>\n",
       "      <td>20654</td>\n",
       "      <td>Other</td>\n",
       "      <td>0.0</td>\n",
       "      <td>0.000000</td>\n",
       "      <td>0.25</td>\n",
       "      <td>0.000000</td>\n",
       "      <td>0.166667</td>\n",
       "      <td>0.583333</td>\n",
       "    </tr>\n",
       "    <tr>\n",
       "      <th>1</th>\n",
       "      <td>582999</td>\n",
       "      <td>1552638400</td>\n",
       "      <td>18.0</td>\n",
       "      <td>18.0</td>\n",
       "      <td>20230</td>\n",
       "      <td>LPD</td>\n",
       "      <td>0.0</td>\n",
       "      <td>0.857143</td>\n",
       "      <td>0.00</td>\n",
       "      <td>0.071429</td>\n",
       "      <td>0.000000</td>\n",
       "      <td>0.071429</td>\n",
       "    </tr>\n",
       "    <tr>\n",
       "      <th>2</th>\n",
       "      <td>642382</td>\n",
       "      <td>14960202</td>\n",
       "      <td>12.0</td>\n",
       "      <td>1020.0</td>\n",
       "      <td>5955</td>\n",
       "      <td>Other</td>\n",
       "      <td>0.0</td>\n",
       "      <td>0.000000</td>\n",
       "      <td>0.00</td>\n",
       "      <td>0.000000</td>\n",
       "      <td>0.000000</td>\n",
       "      <td>1.000000</td>\n",
       "    </tr>\n",
       "    <tr>\n",
       "      <th>3</th>\n",
       "      <td>751790</td>\n",
       "      <td>618728447</td>\n",
       "      <td>0.0</td>\n",
       "      <td>908.0</td>\n",
       "      <td>38549</td>\n",
       "      <td>GPD</td>\n",
       "      <td>0.0</td>\n",
       "      <td>0.000000</td>\n",
       "      <td>1.00</td>\n",
       "      <td>0.000000</td>\n",
       "      <td>0.000000</td>\n",
       "      <td>0.000000</td>\n",
       "    </tr>\n",
       "    <tr>\n",
       "      <th>4</th>\n",
       "      <td>778705</td>\n",
       "      <td>52296320</td>\n",
       "      <td>0.0</td>\n",
       "      <td>0.0</td>\n",
       "      <td>40955</td>\n",
       "      <td>Other</td>\n",
       "      <td>0.0</td>\n",
       "      <td>0.000000</td>\n",
       "      <td>0.00</td>\n",
       "      <td>0.000000</td>\n",
       "      <td>0.000000</td>\n",
       "      <td>1.000000</td>\n",
       "    </tr>\n",
       "    <tr>\n",
       "      <th>...</th>\n",
       "      <td>...</td>\n",
       "      <td>...</td>\n",
       "      <td>...</td>\n",
       "      <td>...</td>\n",
       "      <td>...</td>\n",
       "      <td>...</td>\n",
       "      <td>...</td>\n",
       "      <td>...</td>\n",
       "      <td>...</td>\n",
       "      <td>...</td>\n",
       "      <td>...</td>\n",
       "      <td>...</td>\n",
       "    </tr>\n",
       "    <tr>\n",
       "      <th>17084</th>\n",
       "      <td>4293354003</td>\n",
       "      <td>1188113564</td>\n",
       "      <td>0.0</td>\n",
       "      <td>0.0</td>\n",
       "      <td>16610</td>\n",
       "      <td>GRDA</td>\n",
       "      <td>0.0</td>\n",
       "      <td>0.000000</td>\n",
       "      <td>0.00</td>\n",
       "      <td>0.000000</td>\n",
       "      <td>0.500000</td>\n",
       "      <td>0.500000</td>\n",
       "    </tr>\n",
       "    <tr>\n",
       "      <th>17085</th>\n",
       "      <td>4293843368</td>\n",
       "      <td>1549502620</td>\n",
       "      <td>0.0</td>\n",
       "      <td>0.0</td>\n",
       "      <td>15065</td>\n",
       "      <td>GRDA</td>\n",
       "      <td>0.0</td>\n",
       "      <td>0.000000</td>\n",
       "      <td>0.00</td>\n",
       "      <td>0.000000</td>\n",
       "      <td>0.500000</td>\n",
       "      <td>0.500000</td>\n",
       "    </tr>\n",
       "    <tr>\n",
       "      <th>17086</th>\n",
       "      <td>4294455489</td>\n",
       "      <td>2105480289</td>\n",
       "      <td>0.0</td>\n",
       "      <td>0.0</td>\n",
       "      <td>56</td>\n",
       "      <td>Other</td>\n",
       "      <td>0.0</td>\n",
       "      <td>0.000000</td>\n",
       "      <td>0.00</td>\n",
       "      <td>0.000000</td>\n",
       "      <td>0.000000</td>\n",
       "      <td>1.000000</td>\n",
       "    </tr>\n",
       "    <tr>\n",
       "      <th>17087</th>\n",
       "      <td>4294858825</td>\n",
       "      <td>657299228</td>\n",
       "      <td>6.0</td>\n",
       "      <td>6.0</td>\n",
       "      <td>4312</td>\n",
       "      <td>Other</td>\n",
       "      <td>0.0</td>\n",
       "      <td>0.000000</td>\n",
       "      <td>0.00</td>\n",
       "      <td>0.000000</td>\n",
       "      <td>0.066667</td>\n",
       "      <td>0.933333</td>\n",
       "    </tr>\n",
       "    <tr>\n",
       "      <th>17088</th>\n",
       "      <td>4294958358</td>\n",
       "      <td>260520016</td>\n",
       "      <td>0.0</td>\n",
       "      <td>2508.0</td>\n",
       "      <td>25986</td>\n",
       "      <td>Other</td>\n",
       "      <td>0.0</td>\n",
       "      <td>0.000000</td>\n",
       "      <td>0.00</td>\n",
       "      <td>0.000000</td>\n",
       "      <td>0.000000</td>\n",
       "      <td>1.000000</td>\n",
       "    </tr>\n",
       "  </tbody>\n",
       "</table>\n",
       "<p>17089 rows × 12 columns</p>\n",
       "</div>"
      ],
      "text/plain": [
       "           eeg_id  spectrogram_id  eeg_offset_seconds  spec_offset_seconds  \\\n",
       "0          568657       789577333                 9.0                  9.0   \n",
       "1          582999      1552638400                18.0                 18.0   \n",
       "2          642382        14960202                12.0               1020.0   \n",
       "3          751790       618728447                 0.0                908.0   \n",
       "4          778705        52296320                 0.0                  0.0   \n",
       "...           ...             ...                 ...                  ...   \n",
       "17084  4293354003      1188113564                 0.0                  0.0   \n",
       "17085  4293843368      1549502620                 0.0                  0.0   \n",
       "17086  4294455489      2105480289                 0.0                  0.0   \n",
       "17087  4294858825       657299228                 6.0                  6.0   \n",
       "17088  4294958358       260520016                 0.0               2508.0   \n",
       "\n",
       "       patient_id target  seizure_vote  lpd_vote  gpd_vote  lrda_vote  \\\n",
       "0           20654  Other           0.0  0.000000      0.25   0.000000   \n",
       "1           20230    LPD           0.0  0.857143      0.00   0.071429   \n",
       "2            5955  Other           0.0  0.000000      0.00   0.000000   \n",
       "3           38549    GPD           0.0  0.000000      1.00   0.000000   \n",
       "4           40955  Other           0.0  0.000000      0.00   0.000000   \n",
       "...           ...    ...           ...       ...       ...        ...   \n",
       "17084       16610   GRDA           0.0  0.000000      0.00   0.000000   \n",
       "17085       15065   GRDA           0.0  0.000000      0.00   0.000000   \n",
       "17086          56  Other           0.0  0.000000      0.00   0.000000   \n",
       "17087        4312  Other           0.0  0.000000      0.00   0.000000   \n",
       "17088       25986  Other           0.0  0.000000      0.00   0.000000   \n",
       "\n",
       "       grda_vote  other_vote  \n",
       "0       0.166667    0.583333  \n",
       "1       0.000000    0.071429  \n",
       "2       0.000000    1.000000  \n",
       "3       0.000000    0.000000  \n",
       "4       0.000000    1.000000  \n",
       "...          ...         ...  \n",
       "17084   0.500000    0.500000  \n",
       "17085   0.500000    0.500000  \n",
       "17086   0.000000    1.000000  \n",
       "17087   0.066667    0.933333  \n",
       "17088   0.000000    1.000000  \n",
       "\n",
       "[17089 rows x 12 columns]"
      ]
     },
     "execution_count": 4,
     "metadata": {},
     "output_type": "execute_result"
    }
   ],
   "source": [
    "train_metadata"
   ]
  },
  {
   "cell_type": "code",
   "execution_count": 5,
   "metadata": {},
   "outputs": [],
   "source": [
    "preprocessed = preprocess_for_sig(train_metadata.head(10), TRAIN_EEG_DIR, scaler_type=\"meanvar_0.2\")"
   ]
  },
  {
   "cell_type": "code",
   "execution_count": 6,
   "metadata": {},
   "outputs": [
    {
     "data": {
      "text/plain": [
       "[<matplotlib.lines.Line2D at 0x7ff60cae77f0>]"
      ]
     },
     "execution_count": 6,
     "metadata": {},
     "output_type": "execute_result"
    },
    {
     "data": {
      "image/png": "[encoded data removed]",
      "text/plain": [
       "<Figure size 640x480 with 1 Axes>"
      ]
     },
     "metadata": {},
     "output_type": "display_data"
    }
   ],
   "source": [
    "# example of a preprocessed eeg signal\n",
    "plt.plot(preprocessed[1,:,4])"
   ]
  },
  {
   "cell_type": "code",
   "execution_count": 16,
   "metadata": {},
   "outputs": [],
   "source": [
    "scaler_types = [\"meanvar_1.0\"]\n",
    "device = \"cuda\" if torch.cuda.is_available() else \"cpu\""
   ]
  },
  {
   "cell_type": "code",
   "execution_count": 17,
   "metadata": {},
   "outputs": [],
   "source": [
    "def calculate_and_store_sigs(scaler_type):\n",
    "    \"\"\"Calculate and store signatures up to level 6 for the given scaler type\"\"\"\n",
    "    calculate_signature_for_metadata(train_metadata, TRAIN_EEG_DIR, TRAIN_SIGNATURES_DIR, scaler_type = scaler_type, batch_size=1000, device=device, level=6)\n",
    "    for i in range(0, len(train_metadata), 1000):\n",
    "        sigs = torch.load(f\"{TRAIN_SIGNATURES_DIR}sigs_lvl_6_scaler_{scaler_type}_{i}.pt\")\n",
    "        if i == 0:\n",
    "            all_sigs = sigs\n",
    "        else:\n",
    "            all_sigs = torch.cat((all_sigs, sigs), 0)\n",
    "    torch.save(all_sigs, f\"{TRAIN_SIGNATURES_DIR}all_sigs_lvl_6_scaler_{scaler_type}.pt\")\n",
    "    print(f\"Done with {scaler_type}\")"
   ]
  },
  {
   "cell_type": "code",
   "execution_count": 13,
   "metadata": {},
   "outputs": [
    {
     "name": "stdout",
     "output_type": "stream",
     "text": [
      "Processed 0 records.\n",
      "Processed 1000 records.\n",
      "Processed 2000 records.\n",
      "Processed 3000 records.\n",
      "Processed 4000 records.\n",
      "Processed 5000 records.\n",
      "Processed 6000 records.\n",
      "Processed 7000 records.\n",
      "Processed 8000 records.\n",
      "Processed 9000 records.\n",
      "Processed 10000 records.\n",
      "Processed 11000 records.\n",
      "Processed 12000 records.\n",
      "Processed 13000 records.\n",
      "Processed 14000 records.\n",
      "Processed 15000 records.\n",
      "Processed 16000 records.\n",
      "Processed 17000 records.\n",
      "Done with meanvar_1.0\n"
     ]
    }
   ],
   "source": [
    "for scaler_type in scaler_types:\n",
    "    calculate_and_store_sigs(scaler_type)"
   ]
  },
  {
   "cell_type": "code",
   "execution_count": 8,
   "metadata": {},
   "outputs": [],
   "source": [
    "# also store level 5, 4, 3\n",
    "sig_5_dim = signatory.signature_channels(5, 5)\n",
    "sig_4_dim = signatory.signature_channels(5, 4)\n",
    "sig_3_dim = signatory.signature_channels(5, 3)"
   ]
  },
  {
   "cell_type": "code",
   "execution_count": 18,
   "metadata": {},
   "outputs": [
    {
     "name": "stdout",
     "output_type": "stream",
     "text": [
      "Done with meanvar_1.0\n"
     ]
    }
   ],
   "source": [
    "for scaler_type in scaler_types:\n",
    "    lvl_6_sigs = torch.load(f\"{TRAIN_SIGNATURES_DIR}all_sigs_lvl_6_scaler_{scaler_type}.pt\")\n",
    "    lvl_5_sigs = lvl_6_sigs[:,:,0:sig_5_dim]\n",
    "    lvl_4_sigs = lvl_6_sigs[:,:,0:sig_4_dim]\n",
    "    lvl_3_sigs = lvl_6_sigs[:,:,0:sig_3_dim]\n",
    "    torch.save(lvl_5_sigs, f\"{TRAIN_SIGNATURES_DIR}all_sigs_lvl_5_scaler_{scaler_type}.pt\")\n",
    "    torch.save(lvl_4_sigs, f\"{TRAIN_SIGNATURES_DIR}all_sigs_lvl_4_scaler_{scaler_type}.pt\")\n",
    "    torch.save(lvl_3_sigs, f\"{TRAIN_SIGNATURES_DIR}all_sigs_lvl_3_scaler_{scaler_type}.pt\")\n",
    "    print(f\"Done with {scaler_type}\")"
   ]
  },
  {
   "cell_type": "code",
   "execution_count": null,
   "metadata": {},
   "outputs": [],
   "source": []
  }
 ],
 "metadata": {
  "kernelspec": {
   "display_name": "python",
   "language": "python",
   "name": "python3"
  },
  "language_info": {
   "codemirror_mode": {
    "name": "ipython",
    "version": 3
   },
   "file_extension": ".py",
   "mimetype": "text/x-python",
   "name": "python",
   "nbconvert_exporter": "python",
   "pygments_lexer": "ipython3",
   "version": "3.10.12"
  }
 },
 "nbformat": 4,
 "nbformat_minor": 2
}
