{
 "cells": [
  {
   "cell_type": "markdown",
   "metadata": {},
   "source": [
    "Precompute separate log signatures for each of the highlited brain regions:\n",
    "\n",
    "<img src=\"../images/brain_regions.png\" style=\"width: 200px;\"/>"
   ]
  },
  {
   "cell_type": "code",
   "execution_count": 1,
   "metadata": {},
   "outputs": [],
   "source": [
    "import numpy as np\n",
    "import pandas as pd\n",
    "import matplotlib.pyplot as plt\n",
    "from signature_transform_utils import modify_metadata, preprocess_for_logsig, calculate_logsignature_for_metadata"
   ]
  },
  {
   "cell_type": "code",
   "execution_count": 2,
   "metadata": {},
   "outputs": [],
   "source": [
    "TRAIN_EEG_DIR = \"../../data/train_eegs/\"\n",
    "TRAIN_METADATA_DIR = \"../../data/train.csv\"\n",
    "TRAIN_SIGNATURES_DIR = \"../../data/train_signatures/\""
   ]
  },
  {
   "cell_type": "code",
   "execution_count": 3,
   "metadata": {},
   "outputs": [],
   "source": [
    "train_metadata = pd.read_csv(TRAIN_METADATA_DIR)\n",
    "train_metadata = modify_metadata(train_metadata)"
   ]
  },
  {
   "cell_type": "code",
   "execution_count": 4,
   "metadata": {},
   "outputs": [
    {
     "data": {
      "text/html": [
       "<div>\n",
       "<style scoped>\n",
       "    .dataframe tbody tr th:only-of-type {\n",
       "        vertical-align: middle;\n",
       "    }\n",
       "\n",
       "    .dataframe tbody tr th {\n",
       "        vertical-align: top;\n",
       "    }\n",
       "\n",
       "    .dataframe thead th {\n",
       "        text-align: right;\n",
       "    }\n",
       "</style>\n",
       "<table border=\"1\" class=\"dataframe\">\n",
       "  <thead>\n",
       "    <tr style=\"text-align: right;\">\n",
       "      <th></th>\n",
       "      <th>eeg_id</th>\n",
       "      <th>spectrogram_id</th>\n",
       "      <th>eeg_offset_seconds</th>\n",
       "      <th>spec_offset_seconds</th>\n",
       "      <th>patient_id</th>\n",
       "      <th>target</th>\n",
       "      <th>seizure_vote</th>\n",
       "      <th>lpd_vote</th>\n",
       "      <th>gpd_vote</th>\n",
       "      <th>lrda_vote</th>\n",
       "      <th>grda_vote</th>\n",
       "      <th>other_vote</th>\n",
       "    </tr>\n",
       "  </thead>\n",
       "  <tbody>\n",
       "    <tr>\n",
       "      <th>0</th>\n",
       "      <td>568657</td>\n",
       "      <td>789577333</td>\n",
       "      <td>9.0</td>\n",
       "      <td>9.0</td>\n",
       "      <td>20654</td>\n",
       "      <td>Other</td>\n",
       "      <td>0.0</td>\n",
       "      <td>0.000000</td>\n",
       "      <td>0.25</td>\n",
       "      <td>0.000000</td>\n",
       "      <td>0.166667</td>\n",
       "      <td>0.583333</td>\n",
       "    </tr>\n",
       "    <tr>\n",
       "      <th>1</th>\n",
       "      <td>582999</td>\n",
       "      <td>1552638400</td>\n",
       "      <td>18.0</td>\n",
       "      <td>18.0</td>\n",
       "      <td>20230</td>\n",
       "      <td>LPD</td>\n",
       "      <td>0.0</td>\n",
       "      <td>0.857143</td>\n",
       "      <td>0.00</td>\n",
       "      <td>0.071429</td>\n",
       "      <td>0.000000</td>\n",
       "      <td>0.071429</td>\n",
       "    </tr>\n",
       "    <tr>\n",
       "      <th>2</th>\n",
       "      <td>642382</td>\n",
       "      <td>14960202</td>\n",
       "      <td>12.0</td>\n",
       "      <td>1020.0</td>\n",
       "      <td>5955</td>\n",
       "      <td>Other</td>\n",
       "      <td>0.0</td>\n",
       "      <td>0.000000</td>\n",
       "      <td>0.00</td>\n",
       "      <td>0.000000</td>\n",
       "      <td>0.000000</td>\n",
       "      <td>1.000000</td>\n",
       "    </tr>\n",
       "    <tr>\n",
       "      <th>3</th>\n",
       "      <td>751790</td>\n",
       "      <td>618728447</td>\n",
       "      <td>0.0</td>\n",
       "      <td>908.0</td>\n",
       "      <td>38549</td>\n",
       "      <td>GPD</td>\n",
       "      <td>0.0</td>\n",
       "      <td>0.000000</td>\n",
       "      <td>1.00</td>\n",
       "      <td>0.000000</td>\n",
       "      <td>0.000000</td>\n",
       "      <td>0.000000</td>\n",
       "    </tr>\n",
       "    <tr>\n",
       "      <th>4</th>\n",
       "      <td>778705</td>\n",
       "      <td>52296320</td>\n",
       "      <td>0.0</td>\n",
       "      <td>0.0</td>\n",
       "      <td>40955</td>\n",
       "      <td>Other</td>\n",
       "      <td>0.0</td>\n",
       "      <td>0.000000</td>\n",
       "      <td>0.00</td>\n",
       "      <td>0.000000</td>\n",
       "      <td>0.000000</td>\n",
       "      <td>1.000000</td>\n",
       "    </tr>\n",
       "    <tr>\n",
       "      <th>...</th>\n",
       "      <td>...</td>\n",
       "      <td>...</td>\n",
       "      <td>...</td>\n",
       "      <td>...</td>\n",
       "      <td>...</td>\n",
       "      <td>...</td>\n",
       "      <td>...</td>\n",
       "      <td>...</td>\n",
       "      <td>...</td>\n",
       "      <td>...</td>\n",
       "      <td>...</td>\n",
       "      <td>...</td>\n",
       "    </tr>\n",
       "    <tr>\n",
       "      <th>17084</th>\n",
       "      <td>4293354003</td>\n",
       "      <td>1188113564</td>\n",
       "      <td>0.0</td>\n",
       "      <td>0.0</td>\n",
       "      <td>16610</td>\n",
       "      <td>GRDA</td>\n",
       "      <td>0.0</td>\n",
       "      <td>0.000000</td>\n",
       "      <td>0.00</td>\n",
       "      <td>0.000000</td>\n",
       "      <td>0.500000</td>\n",
       "      <td>0.500000</td>\n",
       "    </tr>\n",
       "    <tr>\n",
       "      <th>17085</th>\n",
       "      <td>4293843368</td>\n",
       "      <td>1549502620</td>\n",
       "      <td>0.0</td>\n",
       "      <td>0.0</td>\n",
       "      <td>15065</td>\n",
       "      <td>GRDA</td>\n",
       "      <td>0.0</td>\n",
       "      <td>0.000000</td>\n",
       "      <td>0.00</td>\n",
       "      <td>0.000000</td>\n",
       "      <td>0.500000</td>\n",
       "      <td>0.500000</td>\n",
       "    </tr>\n",
       "    <tr>\n",
       "      <th>17086</th>\n",
       "      <td>4294455489</td>\n",
       "      <td>2105480289</td>\n",
       "      <td>0.0</td>\n",
       "      <td>0.0</td>\n",
       "      <td>56</td>\n",
       "      <td>Other</td>\n",
       "      <td>0.0</td>\n",
       "      <td>0.000000</td>\n",
       "      <td>0.00</td>\n",
       "      <td>0.000000</td>\n",
       "      <td>0.000000</td>\n",
       "      <td>1.000000</td>\n",
       "    </tr>\n",
       "    <tr>\n",
       "      <th>17087</th>\n",
       "      <td>4294858825</td>\n",
       "      <td>657299228</td>\n",
       "      <td>6.0</td>\n",
       "      <td>6.0</td>\n",
       "      <td>4312</td>\n",
       "      <td>Other</td>\n",
       "      <td>0.0</td>\n",
       "      <td>0.000000</td>\n",
       "      <td>0.00</td>\n",
       "      <td>0.000000</td>\n",
       "      <td>0.066667</td>\n",
       "      <td>0.933333</td>\n",
       "    </tr>\n",
       "    <tr>\n",
       "      <th>17088</th>\n",
       "      <td>4294958358</td>\n",
       "      <td>260520016</td>\n",
       "      <td>0.0</td>\n",
       "      <td>2508.0</td>\n",
       "      <td>25986</td>\n",
       "      <td>Other</td>\n",
       "      <td>0.0</td>\n",
       "      <td>0.000000</td>\n",
       "      <td>0.00</td>\n",
       "      <td>0.000000</td>\n",
       "      <td>0.000000</td>\n",
       "      <td>1.000000</td>\n",
       "    </tr>\n",
       "  </tbody>\n",
       "</table>\n",
       "<p>17089 rows × 12 columns</p>\n",
       "</div>"
      ],
      "text/plain": [
       "           eeg_id  spectrogram_id  eeg_offset_seconds  spec_offset_seconds  \\\n",
       "0          568657       789577333                 9.0                  9.0   \n",
       "1          582999      1552638400                18.0                 18.0   \n",
       "2          642382        14960202                12.0               1020.0   \n",
       "3          751790       618728447                 0.0                908.0   \n",
       "4          778705        52296320                 0.0                  0.0   \n",
       "...           ...             ...                 ...                  ...   \n",
       "17084  4293354003      1188113564                 0.0                  0.0   \n",
       "17085  4293843368      1549502620                 0.0                  0.0   \n",
       "17086  4294455489      2105480289                 0.0                  0.0   \n",
       "17087  4294858825       657299228                 6.0                  6.0   \n",
       "17088  4294958358       260520016                 0.0               2508.0   \n",
       "\n",
       "       patient_id target  seizure_vote  lpd_vote  gpd_vote  lrda_vote  \\\n",
       "0           20654  Other           0.0  0.000000      0.25   0.000000   \n",
       "1           20230    LPD           0.0  0.857143      0.00   0.071429   \n",
       "2            5955  Other           0.0  0.000000      0.00   0.000000   \n",
       "3           38549    GPD           0.0  0.000000      1.00   0.000000   \n",
       "4           40955  Other           0.0  0.000000      0.00   0.000000   \n",
       "...           ...    ...           ...       ...       ...        ...   \n",
       "17084       16610   GRDA           0.0  0.000000      0.00   0.000000   \n",
       "17085       15065   GRDA           0.0  0.000000      0.00   0.000000   \n",
       "17086          56  Other           0.0  0.000000      0.00   0.000000   \n",
       "17087        4312  Other           0.0  0.000000      0.00   0.000000   \n",
       "17088       25986  Other           0.0  0.000000      0.00   0.000000   \n",
       "\n",
       "       grda_vote  other_vote  \n",
       "0       0.166667    0.583333  \n",
       "1       0.000000    0.071429  \n",
       "2       0.000000    1.000000  \n",
       "3       0.000000    0.000000  \n",
       "4       0.000000    1.000000  \n",
       "...          ...         ...  \n",
       "17084   0.500000    0.500000  \n",
       "17085   0.500000    0.500000  \n",
       "17086   0.000000    1.000000  \n",
       "17087   0.066667    0.933333  \n",
       "17088   0.000000    1.000000  \n",
       "\n",
       "[17089 rows x 12 columns]"
      ]
     },
     "execution_count": 4,
     "metadata": {},
     "output_type": "execute_result"
    }
   ],
   "source": [
    "train_metadata"
   ]
  },
  {
   "cell_type": "code",
   "execution_count": 5,
   "metadata": {},
   "outputs": [],
   "source": [
    "preprocessed = preprocess_for_logsig(train_metadata.head(10), TRAIN_EEG_DIR)"
   ]
  },
  {
   "cell_type": "code",
   "execution_count": 6,
   "metadata": {},
   "outputs": [
    {
     "data": {
      "text/plain": [
       "[<matplotlib.lines.Line2D at 0x7f081b6e1480>]"
      ]
     },
     "execution_count": 6,
     "metadata": {},
     "output_type": "execute_result"
    },
    {
     "data": {
      "image/png": "[encoded data removed]",
      "text/plain": [
       "<Figure size 640x480 with 1 Axes>"
      ]
     },
     "metadata": {},
     "output_type": "display_data"
    }
   ],
   "source": [
    "# example of a preprocessed eeg signal\n",
    "plt.plot(preprocessed[0,:,1])"
   ]
  },
  {
   "cell_type": "code",
   "execution_count": 7,
   "metadata": {},
   "outputs": [],
   "source": [
    "batch_size = 100"
   ]
  },
  {
   "cell_type": "code",
   "execution_count": null,
   "metadata": {},
   "outputs": [],
   "source": [
    "calculate_logsignature_for_metadata(train_metadata, TRAIN_EEG_DIR, TRAIN_SIGNATURES_DIR, batch_size)"
   ]
  },
  {
   "cell_type": "code",
   "execution_count": 8,
   "metadata": {},
   "outputs": [],
   "source": [
    "# read and combine into one tensor\n",
    "for i in range(0, len(train_metadata), batch_size):\n",
    "    logsigs = np.load(f\"{TRAIN_SIGNATURES_DIR}logsigs_lvl_5_{i}.npy\")\n",
    "    if i == 0:\n",
    "        all_logsigs = logsigs\n",
    "    else:\n",
    "        all_logsigs = np.concatenate([all_logsigs, logsigs], axis=0)"
   ]
  },
  {
   "cell_type": "code",
   "execution_count": 9,
   "metadata": {},
   "outputs": [
    {
     "name": "stdout",
     "output_type": "stream",
     "text": [
      "Quantile 0.01: -178761.11022895642\n",
      "Quantile 0.05: -1418.3801895905085\n",
      "Quantile 0.1: -150.09643235738736\n",
      "Quantile 0.5: 0.04254851107794163\n",
      "Quantile 0.9: 178.9159741128557\n",
      "Quantile 0.95: 1624.422954307504\n",
      "Quantile 0.99: 188404.3161554994\n"
     ]
    }
   ],
   "source": [
    "# print quantiles\n",
    "for q in [0.01, 0.05, 0.1, 0.5, 0.9, 0.95, 0.99]:\n",
    "    print(f\"Quantile {q}: {np.quantile(all_logsigs, q)}\")"
   ]
  },
  {
   "cell_type": "code",
   "execution_count": 10,
   "metadata": {},
   "outputs": [
    {
     "data": {
      "text/plain": [
       "(array([5.7103100e+05, 4.7770000e+03, 4.8020000e+03, 4.7710000e+03,\n",
       "        5.0150000e+03, 5.1550000e+03, 5.3410000e+03, 5.5040000e+03,\n",
       "        5.6030000e+03, 5.9000000e+03, 6.1060000e+03, 6.3940000e+03,\n",
       "        6.4660000e+03, 6.7690000e+03, 7.0920000e+03, 7.3790000e+03,\n",
       "        7.6630000e+03, 7.9060000e+03, 8.2270000e+03, 8.6380000e+03,\n",
       "        8.9260000e+03, 9.2470000e+03, 9.9670000e+03, 1.0401000e+04,\n",
       "        1.0997000e+04, 1.1604000e+04, 1.2195000e+04, 1.3236000e+04,\n",
       "        1.3593000e+04, 1.4740000e+04, 1.5605000e+04, 1.6855000e+04,\n",
       "        1.8330000e+04, 1.9920000e+04, 2.1668000e+04, 2.3475000e+04,\n",
       "        2.6255000e+04, 2.9375000e+04, 3.2744000e+04, 3.7721000e+04,\n",
       "        4.3066000e+04, 5.1654000e+04, 6.2313000e+04, 7.8781000e+04,\n",
       "        1.0415400e+05, 1.4986100e+05, 2.4655100e+05, 5.8352600e+05,\n",
       "        5.1137071e+07, 1.1636810e+06, 3.3604200e+05, 1.8365700e+05,\n",
       "        1.2253000e+05, 9.0772000e+04, 7.0706000e+04, 5.7891000e+04,\n",
       "        4.8004000e+04, 4.1133000e+04, 3.6016000e+04, 3.1540000e+04,\n",
       "        2.8208000e+04, 2.5222000e+04, 2.2799000e+04, 2.1188000e+04,\n",
       "        1.9593000e+04, 1.7891000e+04, 1.6611000e+04, 1.5576000e+04,\n",
       "        1.4504000e+04, 1.3655000e+04, 1.2727000e+04, 1.2160000e+04,\n",
       "        1.1457000e+04, 1.1021000e+04, 1.0439000e+04, 9.7110000e+03,\n",
       "        9.3420000e+03, 8.8810000e+03, 8.5810000e+03, 8.2800000e+03,\n",
       "        8.0640000e+03, 7.6190000e+03, 7.2600000e+03, 7.0500000e+03,\n",
       "        6.7760000e+03, 6.5310000e+03, 6.4410000e+03, 6.0970000e+03,\n",
       "        5.7720000e+03, 5.6150000e+03, 5.5050000e+03, 5.5660000e+03,\n",
       "        5.1780000e+03, 5.0820000e+03, 4.8470000e+03, 4.8030000e+03,\n",
       "        4.7220000e+03, 4.6170000e+03, 4.4030000e+03, 5.7098800e+05]),\n",
       " array([-178761.  , -175089.35, -171417.7 , -167746.05, -164074.4 ,\n",
       "        -160402.75, -156731.1 , -153059.45, -149387.8 , -145716.15,\n",
       "        -142044.5 , -138372.85, -134701.2 , -131029.55, -127357.9 ,\n",
       "        -123686.25, -120014.6 , -116342.95, -112671.3 , -108999.65,\n",
       "        -105328.  , -101656.35,  -97984.7 ,  -94313.05,  -90641.4 ,\n",
       "         -86969.75,  -83298.1 ,  -79626.45,  -75954.8 ,  -72283.15,\n",
       "         -68611.5 ,  -64939.85,  -61268.2 ,  -57596.55,  -53924.9 ,\n",
       "         -50253.25,  -46581.6 ,  -42909.95,  -39238.3 ,  -35566.65,\n",
       "         -31895.  ,  -28223.35,  -24551.7 ,  -20880.05,  -17208.4 ,\n",
       "         -13536.75,   -9865.1 ,   -6193.45,   -2521.8 ,    1149.85,\n",
       "           4821.5 ,    8493.15,   12164.8 ,   15836.45,   19508.1 ,\n",
       "          23179.75,   26851.4 ,   30523.05,   34194.7 ,   37866.35,\n",
       "          41538.  ,   45209.65,   48881.3 ,   52552.95,   56224.6 ,\n",
       "          59896.25,   63567.9 ,   67239.55,   70911.2 ,   74582.85,\n",
       "          78254.5 ,   81926.15,   85597.8 ,   89269.45,   92941.1 ,\n",
       "          96612.75,  100284.4 ,  103956.05,  107627.7 ,  111299.35,\n",
       "         114971.  ,  118642.65,  122314.3 ,  125985.95,  129657.6 ,\n",
       "         133329.25,  137000.9 ,  140672.55,  144344.2 ,  148015.85,\n",
       "         151687.5 ,  155359.15,  159030.8 ,  162702.45,  166374.1 ,\n",
       "         170045.75,  173717.4 ,  177389.05,  181060.7 ,  184732.35,\n",
       "         188404.  ]),\n",
       " <BarContainer object of 100 artists>)"
      ]
     },
     "execution_count": 10,
     "metadata": {},
     "output_type": "execute_result"
    },
    {
     "data": {
      "image/png": "[encoded data removed]",
      "text/plain": [
       "<Figure size 640x480 with 1 Axes>"
      ]
     },
     "metadata": {},
     "output_type": "display_data"
    }
   ],
   "source": [
    "# clearly, there are many outliers in the signature terms\n",
    "plt.hist(np.clip(all_logsigs.flatten(), -178761, 188404), bins=100)"
   ]
  },
  {
   "cell_type": "code",
   "execution_count": 11,
   "metadata": {},
   "outputs": [
    {
     "data": {
      "text/plain": [
       "[<matplotlib.lines.Line2D at 0x7f0819974d30>]"
      ]
     },
     "execution_count": 11,
     "metadata": {},
     "output_type": "execute_result"
    },
    {
     "data": {
      "image/png": "[encoded data removed]",
      "text/plain": [
       "<Figure size 640x480 with 1 Axes>"
      ]
     },
     "metadata": {},
     "output_type": "display_data"
    }
   ],
   "source": [
    "# in particular, the last terms seem to become very large\n",
    "plt.plot(all_logsigs[0,2,:])"
   ]
  },
  {
   "cell_type": "code",
   "execution_count": 12,
   "metadata": {},
   "outputs": [],
   "source": [
    "np.save(f\"{TRAIN_SIGNATURES_DIR}logsigs_lvl_5.npy\", all_logsigs)"
   ]
  }
 ],
 "metadata": {
  "kernelspec": {
   "display_name": "python",
   "language": "python",
   "name": "python3"
  },
  "language_info": {
   "codemirror_mode": {
    "name": "ipython",
    "version": 3
   },
   "file_extension": ".py",
   "mimetype": "text/x-python",
   "name": "python",
   "nbconvert_exporter": "python",
   "pygments_lexer": "ipython3",
   "version": "3.10.12"
  }
 },
 "nbformat": 4,
 "nbformat_minor": 2
}
